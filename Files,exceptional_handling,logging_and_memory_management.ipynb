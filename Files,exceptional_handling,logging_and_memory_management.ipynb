{
  "nbformat": 4,
  "nbformat_minor": 0,
  "metadata": {
    "colab": {
      "provenance": []
    },
    "kernelspec": {
      "name": "python3",
      "display_name": "Python 3"
    },
    "language_info": {
      "name": "python"
    }
  },
  "cells": [
    {
      "cell_type": "markdown",
      "source": [
        "#Files, exceptional handling, logging and memory management Questions Assignment"
      ],
      "metadata": {
        "id": "a_y2Swt7zUgg"
      }
    },
    {
      "cell_type": "markdown",
      "source": [
        "## Theoritical Questions:"
      ],
      "metadata": {
        "id": "hoGTPE7mzjOG"
      }
    },
    {
      "cell_type": "markdown",
      "source": [
        "**Q1. What is the difference between interpreted and compiled languages?**\n",
        "\n",
        "- **Interpreted languages:** (e.g., Python) execute code line-by-line at runtime using an interpreter. They are slower but easier to debug.\n",
        "\n",
        "- **Compiled languages:** (e.g., C, C++) translate the whole source code into machine code before execution, resulting in faster performance but requiring recompilation after changes."
      ],
      "metadata": {
        "id": "8ap1S2JgzoLO"
      }
    },
    {
      "cell_type": "markdown",
      "source": [
        "**Q2. What is Exception Handling in Python?**\n",
        "\n",
        "--> Exception handling in Python is a mechanism that allows a program to detect and manage runtime errors (exceptions) without terminating unexpectedly. It ensures the normal flow of the program even when errors occur.\n",
        "\n",
        "--> **It is implemented using the following keywords:**\n",
        "\n",
        "- try – Contains the code that may raise an exception.\n",
        "\n",
        "- except – Defines a block of code to handle the specific exception.\n",
        "\n",
        "- else – Executes only if no exception occurs in the try block.\n",
        "\n",
        "- finally – Executes regardless of whether an exception occurred or not, often used for cleanup operations."
      ],
      "metadata": {
        "id": "obdoNwP-zo5-"
      }
    },
    {
      "cell_type": "markdown",
      "source": [
        "**Q3. What is the purpose of the finally block in exception handling?**\n",
        "\n",
        "--> The finally block in Python is used in exception handling to define a section of code that will always execute, regardless of whether an exception occurs in the try block or not.\n",
        "\n",
        "It is commonly used for cleanup operations such as closing files, releasing resources, or disconnecting from a database.\n",
        "\n",
        "- **Key Points:**\n",
        "\n",
        "    - Executes whether an exception is raised or not.\n",
        "\n",
        "    - Executes even if a return statement is present in the try or except block.\n",
        "\n",
        "    - Only bypassed if the program is forcibly terminated (e.g., os._exit() or system crash).\n",
        "\n",
        "- **Example:**\n",
        "\n",
        "      try:\n",
        "        file=open(\"data.txt\",\"r\")\n",
        "        content=file.read()\n",
        "      except FileNotFoundError:\n",
        "        print(\"File not found.\")\n",
        "      finally:\n",
        "        file.close()\n",
        "        print(\"File closed.\")\n",
        "\n",
        "- **Purpose:**\n",
        "\n",
        "- Ensures that important cleanup code is always executed.\n",
        "\n",
        "- Helps prevent resource leaks."
      ],
      "metadata": {
        "id": "5HUDzQ3O2UIU"
      }
    },
    {
      "cell_type": "markdown",
      "source": [
        "**Q4. What is Logging in Python?**\n",
        "\n",
        "--> Logging in Python is the process of recording messages about a program's execution for debugging, monitoring, and maintenance.\n",
        "\n",
        "It is done using the built-in logging module.\n",
        "\n",
        "- **Common Levels:**\n",
        "\n",
        "    - DEBUG – Detailed debug info\n",
        "\n",
        "    - INFO – General execution info\n",
        "\n",
        "    - WARNING – Possible issue\n",
        "\n",
        "    - ERROR – Error occurred\n",
        "\n",
        "    - CRITICAL – Severe error\n",
        "\n",
        "- **Purpose:**\n",
        "\n",
        "   To track events and errors without stopping the program.\n",
        "\n"
      ],
      "metadata": {
        "id": "h_YklSt4zpOe"
      }
    },
    {
      "cell_type": "markdown",
      "source": [
        "**Q5. What is the significance of the _ _ del _ _ method in Python?**\n",
        "\n",
        "--> The  _ _ del _ _  method in Python is a destructor that is automatically called when an object is about to be destroyed.\n",
        "It is used to perform cleanup tasks, such as closing files or releasing resources.\n",
        "\n",
        "- **Key Points:**\n",
        "\n",
        "    - Defined inside a class as def __del__(self):\n",
        "\n",
        "    - Called by Python’s garbage collector when there are no more references to the object.\n",
        "\n",
        "    - Not guaranteed to be called immediately after the object goes out of scope.\n",
        "\n",
        "- **Purpose:**\n",
        "\n",
        "   To ensure resources are released before an object is removed from memory."
      ],
      "metadata": {
        "id": "yenqNTF-7EIK"
      }
    },
    {
      "cell_type": "markdown",
      "source": [
        "**Q6. What is the difference between import and from ... import in Python?**\n",
        "\n",
        "--> **import module:** Imports the entire module; functions or variables must be accessed using the module name.\n",
        "\n",
        "--> **from module import name:**  Imports specific items from a module; can be used directly without the module prefix.\n",
        "\n",
        "- **Example:**\n",
        "   \n",
        "      import math\n",
        "      print(math.sqrt(16))   # Using module name\n",
        "\n",
        "      from math import sqrt\n",
        "      print(sqrt(16))        # Direct use\n",
        "  \n",
        "\n",
        "- **Key Point:**\n",
        "\n",
        "   import loads the whole module, while from ... import loads only selected parts."
      ],
      "metadata": {
        "id": "CY_lyvhF6Vfz"
      }
    },
    {
      "cell_type": "markdown",
      "source": [
        "**Q7. How can you handle multiple exceptions in Python?**\n",
        "\n",
        "--> Multiple exceptions can be handled by:\n",
        "\n",
        "- Using multiple except blocks – Each block handles a specific exception.\n",
        "\n",
        "- Grouping exceptions in a tuple – A single except block can catch multiple types.\n",
        "\n",
        "- **Example:**\n",
        "\n",
        "       try:\n",
        "           x = int(input(\"Enter a number: \"))\n",
        "           y = 10 / x\n",
        "       except ValueError:\n",
        "           print(\"Invalid input.\")\n",
        "       except ZeroDivisionError:\n",
        "           print(\"Cannot divide by zero.\")\n",
        "       except (TypeError, NameError):\n",
        "           print(\"Type or Name error occurred.\")\n",
        "- **Purpose:**\n",
        "\n",
        "  To manage different error types separately or together for cleaner and more specific error handling."
      ],
      "metadata": {
        "id": "ioZeYhtI_1II"
      }
    },
    {
      "cell_type": "markdown",
      "source": [
        "**Q8. What is the Purpose of the with statement when handling files in Python?**\n",
        "\n",
        "--> The with statement is used to open and manage files (or other resources) in Python.\n",
        "\n",
        "It ensures the file is automatically closed after the block of code is executed, even if an error occurs.\n",
        "\n",
        "- **Purpose:**\n",
        "\n",
        "    - Simplifies file handling.\n",
        "\n",
        "    - Prevents resource leaks.\n",
        "\n",
        "    - Makes code cleaner and more readable.\n",
        "\n",
        "- **Example:**\n",
        "     \n",
        "          with open(\"data.txt\", \"r\") as file:\n",
        "            content = file.read()\n",
        "          # File is automatically closed here\n"
      ],
      "metadata": {
        "id": "CDJOu9Bh_ovA"
      }
    },
    {
      "cell_type": "markdown",
      "source": [
        "**Q9. What is the difference between Multithreading and Multiprocessing?**\n",
        "\n",
        "--> **Multithreading:**  Runs multiple threads within the same process, sharing the same memory space.\n",
        "\n",
        "Best for I/O-bound tasks.\n",
        "\n",
        "- **Example:** reading files, network requests.\n",
        "\n",
        "**Multiprocessing:** Runs multiple processes, each with its own memory space.\n",
        "\n",
        "Best for CPU-bound tasks.\n",
        "\n",
        "- **Example:** heavy calculations, data processing.\n",
        "\n",
        "- **Key Point:**\n",
        "\n",
        "     Threads share memory (faster but risk of conflicts), processes are isolated (safer but use more resources)."
      ],
      "metadata": {
        "id": "v11eCv-sCwYe"
      }
    },
    {
      "cell_type": "markdown",
      "source": [
        "**Q10. What are the dvantages of using Logging in a Program?**\n",
        "\n",
        "--> Logging is used to debug, monitor, and maintain applications effectively.\n",
        "\n",
        "- **Tracks program execution:** Helps monitor program flow.\n",
        "\n",
        "- **Records errors and warnings:**  Useful for debugging.\n",
        "\n",
        "- **Non-intrusive:** Does not interrupt program execution.\n",
        "\n",
        "- **Configurable:** Can set different logging levels (DEBUG, INFO, etc.).\n",
        "\n",
        "- **Persistent:** Can save logs to files for later analysis."
      ],
      "metadata": {
        "id": "WrEKIBbEBdbJ"
      }
    },
    {
      "cell_type": "markdown",
      "source": [
        "**Q11. What is Memory Management in Python?**\n",
        "\n",
        "--> Memory management in Python is the process of allocating, tracking, and releasing memory used by Python objects during program execution.\n",
        "\n",
        "It is automatic, meaning the programmer does not need to manually free memory.\n",
        "\n",
        "- **Key Points:**\n",
        "\n",
        "    - **Private Heap Space:** All objects are stored in a special memory area managed by Python.\n",
        "\n",
        "    - **Reference Counting:** Keeps track of how many references point to an object; deletes the object when count becomes zero.\n",
        "\n",
        "    - **Garbage Collection:** Removes unused objects, including those in reference cycles.\n",
        "\n",
        "    - **Memory Manager:** Handles allocation and deallocation internally.\n",
        "\n",
        "- **Purpose:**\n",
        "\n",
        "    To optimize memory usage, prevent memory leaks, and simplify programming."
      ],
      "metadata": {
        "id": "AltmhKxyOT8A"
      }
    },
    {
      "cell_type": "markdown",
      "source": [
        "**Q12. What are the basic steps involved in Exception Handling in Python?**\n",
        "\n",
        "--> Exception handling in Python is used to prevent program crashes and handle errors gracefully.\n",
        "\n",
        "**Basic Steps:**\n",
        "\n",
        "- **try block:**  Write the code that might raise an exception.\n",
        "\n",
        "- **except block:** Handle the specific exception if it occurs.\n",
        "\n",
        "- **else block:** (Optional) Runs if no exception occurs in the try block.\n",
        "\n",
        "- **finally block:** (Optional) Runs regardless of whether an exception occurred, usually for cleanup tasks."
      ],
      "metadata": {
        "id": "NjPaLd32PnsQ"
      }
    },
    {
      "cell_type": "markdown",
      "source": [
        "**Q13. Why is memory management important in Python?**\n",
        "\n",
        "--> Memory management is important in Python because it:\n",
        "\n",
        "- **Prevents memory leaks:** Ensures unused objects are removed from memory.\n",
        "\n",
        "- **Optimizes performance:** Efficient memory usage makes programs run faster.\n",
        "\n",
        "- **Improves stability:** Reduces the risk of crashes due to memory exhaustion.\n",
        "\n",
        "- **Simplifies coding:** Programmers do not need to manually allocate or free memory.\n",
        "\n",
        "**Proper memory management allows,**  Python programs to run efficiently, reliably, and without unnecessary resource consumption."
      ],
      "metadata": {
        "id": "4WY1qOBBQpr_"
      }
    },
    {
      "cell_type": "markdown",
      "source": [
        "**Q14. What is the role of try and except in Exception Handling?**\n",
        "\n",
        "--> In Python, the try and except statements are used to handle runtime errors gracefully.\n",
        "\n",
        "- **try block:** Contains the code that may raise an exception. If no exception occurs, the except block is skipped.\n",
        "\n",
        "- **except block:** Executes only if an exception is raised in the try block, allowing the program to handle the error instead of crashing.\n",
        "\n",
        "**Example:**\n",
        "\n",
        "     try:\n",
        "        x = 10 / 0\n",
        "     except ZeroDivisionError:\n",
        "        print(\"Cannot divide by zero.\")  "
      ],
      "metadata": {
        "id": "EBk7HSvaRXje"
      }
    },
    {
      "cell_type": "markdown",
      "source": [
        "**Q15. How does Python's Garbage Collection System Work?**\n",
        "\n",
        "--> Python's garbage collection works by combining reference counting and cycle detection, ensuring efficient memory management and preventing memory leaks.\n",
        "\n",
        "**1. Reference Counting:**\n",
        "\n",
        "- Every Python object has a reference count, which tracks how many variables or data structures refer to it.\n",
        "\n",
        "- When this count drops to zero, the object is immediately deleted from memory.\n",
        "\n",
        "**2. Cyclic Garbage Collection:**\n",
        "\n",
        "- Reference counting cannot handle reference cycles (objects referring to each other).\n",
        "\n",
        "- Python's cyclic garbage collector periodically checks for such cycles and removes them.\n",
        "\n",
        "**3. Garbage Collection Process:**\n",
        "\n",
        "- Runs automatically at certain intervals.\n",
        "\n",
        "- Can also be triggered manually using the gc module (gc.collect())."
      ],
      "metadata": {
        "id": "D2LW38q_SRfe"
      }
    },
    {
      "cell_type": "markdown",
      "source": [
        "**Q16. What is the purpose of the else Block in Exception Handling?**\n",
        "\n",
        "--> The else block in Python's exception handling is used to specify a section of code that should run only if no exception occurs in the try block. It helps keep the normal execution logic separate from the error-handling logic, making the program more readable and organized.\n",
        "\n",
        "- **Example:**\n",
        "\n",
        "      try:\n",
        "         num = int(input(\"Enter a number: \"))\n",
        "      except ValueError:\n",
        "         print(\"Invalid input.\")\n",
        "      else:\n",
        "         print(\"You entered:\", num)"
      ],
      "metadata": {
        "id": "MXXwnAwoT9Iu"
      }
    },
    {
      "cell_type": "markdown",
      "source": [
        "**Q17. What are the common Logging Levels in Python?**\n",
        "\n",
        "--> These are used to categorize log messages by severity and help developers monitor and troubleshoot programs effectively.\n",
        "\n",
        "Python's logging module provides different logging levels to indicate the severity of events:\n",
        "\n",
        "- **DEBUG:** Detailed diagnostic information, used for debugging.\n",
        "\n",
        "- **INFO:** General information about program execution.\n",
        "\n",
        "- **WARNING:** Indicates a potential problem that does not stop the program.\n",
        "\n",
        "- **ERROR:** Reports a serious issue that has occurred.\n",
        "\n",
        "- **CRITICAL:** Indicates a very severe error that may cause the program to stop."
      ],
      "metadata": {
        "id": "ssQwTKGJU9Sm"
      }
    },
    {
      "cell_type": "markdown",
      "source": [
        "**Q18. What is the difference between os.fork() and Multiprocessing in Python?**\n",
        "\n",
        "- **os.fork():**\n",
        "\n",
        "    - Creates a new child process by duplicating the current process.\n",
        "\n",
        "    - Available only on Unix/Linux systems.\n",
        "\n",
        "    - Lower-level function, requires manual handling of process management.\n",
        "\n",
        "- **Multiprocessing Module:**\n",
        "\n",
        "    - Cross-platform (works on Windows, Linux, macOS).\n",
        "\n",
        "    - Provides a higher-level API for creating and managing multiple processes.\n",
        "\n",
        "    - Easier to use, supports process pools, inter-process communication, and data sharing.\n",
        "\n",
        "**Therefore,** os.fork() is platform-dependent and low-level, while the multiprocessing module is portable and easier to use for parallel processing."
      ],
      "metadata": {
        "id": "ZlaH0GSAWBkU"
      }
    },
    {
      "cell_type": "markdown",
      "source": [
        "**Q19. What is the importance of Closing a File in Python?**\n",
        "\n",
        "--> Closing a file means terminating the connection between the file and the program using the close() method.\n",
        "\n",
        "**Importance:**\n",
        "\n",
        "- **Frees system resources:** Releases memory and file handles used by the program.\n",
        "\n",
        "- **Ensures data is saved:** Writes any buffered data to the file before closing.\n",
        "\n",
        "- **Prevents data corruption:** Avoids incomplete writes or file damage.\n",
        "\n",
        "- **Allows reuse of the file:** Some systems limit the number of open files."
      ],
      "metadata": {
        "id": "acx88NIrYIRE"
      }
    },
    {
      "cell_type": "markdown",
      "source": [
        "**Q20. What is the difference between file.read() and file.readline() in Python?**\n",
        "\n",
        "-->\n",
        "\n",
        "**1. file.read():**\n",
        "\n",
        "- Reads the entire file content as a single string (or a specified number of characters if given).\n",
        "\n",
        "- Useful when you want all file data at once.\n",
        "\n",
        "- **Example:**\n",
        "\n",
        "      file = open(\"data.txt\", \"r\")\n",
        "      content = file.read()\n",
        "      file.close()\n",
        "      \n",
        "**2.file.readline():**\n",
        "\n",
        "- Reads only one line from the file at a time (including the newline character \\n).\n",
        "\n",
        "- Useful for reading files line-by-line in a loop.\n",
        "\n",
        "- **Example:**\n",
        "\n",
        "      file = open(\"data.txt\", \"r\")\n",
        "      line = file.readline()\n",
        "      file.close()\n",
        "\n",
        "**Key Difference:**\n",
        "\n",
        "read() returns the whole file or specified characters, while readline() returns a single line from the file."
      ],
      "metadata": {
        "id": "wCjoL6wHbQry"
      }
    },
    {
      "cell_type": "markdown",
      "source": [
        "**Q21. What is the Logging Module in Python Used For?**\n",
        "\n",
        "--> The logging module in Python is used to record (log) messages about a program's execution, which can help in debugging, monitoring, and troubleshooting.\n",
        "\n",
        "- **Purpose:**\n",
        "\n",
        "    - **Track program execution:** Helps understand the flow of a program.\n",
        "\n",
        "    - **Record errors and warnings:** Captures issues for later analysis.\n",
        "\n",
        "    - **Debugging:** Logs detailed information for developers.\n",
        "\n",
        "    - **Audit trails:** Keeps a history of important events.\n",
        "\n",
        "**The logging module provides,** a standardized way to capture and store runtime information, making programs easier to maintain and debug."
      ],
      "metadata": {
        "id": "4eP1hK2ucjNz"
      }
    },
    {
      "cell_type": "markdown",
      "source": [
        "**Q22. What is the os Module in Python Used for in File Handling?**\n",
        "\n",
        "--> The os module in Python provides functions to interact with the operating system, including file and directory operations.\n",
        "\n",
        "- **Uses in File Handling:**\n",
        "\n",
        "    - Creating and removing directories – os.mkdir(), os.rmdir()\n",
        "\n",
        "    - Listing files – os.listdir()\n",
        "\n",
        "    - Checking file existence – os.path.exists()\n",
        "\n",
        "    - Deleting files – os.remove()\n",
        "\n",
        "    - Getting file information – os.stat()\n",
        "\n",
        "    - Working with file paths – os.path.join(), os.path.abspath()"
      ],
      "metadata": {
        "id": "KWc204XLdSC6"
      }
    },
    {
      "cell_type": "markdown",
      "source": [
        "**Q23. What are the challenges Associated with Memory Management in Python?**\n",
        "\n",
        "--> Memory management in Python involves allocating and freeing memory for objects during program execution.\n",
        "\n",
        "- **Challenges associated with memory management:**\n",
        "\n",
        "    - **Reference cycles:** Objects referring to each other can create circular references, which are harder for garbage collection to clear.\n",
        "\n",
        "    - **Memory leaks:** Caused by unused objects still being referenced somewhere in the code.\n",
        "\n",
        "    - **High memory usage:** Large datasets or inefficient data structures can quickly consume memory.\n",
        "\n",
        "    - **Garbage collection overhead:** Frequent garbage collection can slow down performance.\n",
        "\n",
        "    - **External resources:** Memory used by external libraries or C extensions may not be released automatically."
      ],
      "metadata": {
        "id": "udpy6-1Nehom"
      }
    },
    {
      "cell_type": "markdown",
      "source": [
        "**Q24. How Do You Raise an Exception Manually in Python?**\n",
        "\n",
        "--> In Python, exceptions can be raised manually using the raise keyword when a specific error condition occurs in the program.\n",
        "\n",
        "- **Syntax:**\n",
        "\n",
        "      raise ExceptionType(\"Error message\")\n",
        "\n",
        "- **Example:**\n",
        "\n",
        "      age = -5\n",
        "      if age < 0:\n",
        "        raise ValueError(\"Age cannot be negative\")\n",
        "\n",
        "- **Explanation:**\n",
        "\n",
        "    - raise keyword is used to trigger an exception.\n",
        "\n",
        "    - one can raise built-in exceptions (like ValueError, TypeError) or custom exceptions created by subclassing Exception.\n",
        "\n",
        "Manually raising exceptions allows, developers to enforce rules, validate inputs, and handle unexpected situations effectively."
      ],
      "metadata": {
        "id": "pSAglkHvfisi"
      }
    },
    {
      "cell_type": "markdown",
      "source": [
        "**Q25. Why Is It Important to Use Multithreading in Certain Applications?**\n",
        "\n",
        "--> Multithreading is a programming technique where multiple threads run concurrently within a single process, sharing the same memory space.\n",
        "\n",
        "- ** Importance:**\n",
        "\n",
        "    - **Improves performance:** Allows multiple tasks to run seemingly at the same time, reducing waiting time.\n",
        "\n",
        "    - **Better resource utilization:** Makes efficient use of CPU when tasks involve waiting (e.g., I/O operations).\n",
        "\n",
        "    - **Responsive applications:** Keeps programs interactive while performing background tasks.\n",
        "\n",
        "    - **Parallelism in I/O-bound tasks:** Ideal for file handling, network communication, or database queries where CPU is idle during waits.\n",
        "\n",
        "\n",
        "**Multithreading,** is important for improving responsiveness and efficiency in applications, especially those involving I/O-bound operations or real-time interaction.\n"
      ],
      "metadata": {
        "id": "R2zhkgs8hIRy"
      }
    },
    {
      "cell_type": "markdown",
      "source": [
        "##Practical Questions:"
      ],
      "metadata": {
        "id": "m2MUEdAgh6uf"
      }
    },
    {
      "cell_type": "code",
      "source": [
        "#[1] How can you open a file for writing in Python and write a string to it\n",
        "\n",
        "with open(\"file.txt\", \"w\") as f:\n",
        "    f.write(\"Welcome to PW Skills Assignment!\")\n"
      ],
      "metadata": {
        "id": "gJyCBtFMjpEp"
      },
      "execution_count": null,
      "outputs": []
    },
    {
      "cell_type": "code",
      "source": [
        "#[2] Write a Python program to read the contents of a file and print each line.\n",
        "\n",
        "with open(\"file.txt\", 'r') as f:\n",
        "    line = f.readline()\n",
        "    print(line)\n"
      ],
      "metadata": {
        "colab": {
          "base_uri": "https://localhost:8080/"
        },
        "id": "QefWbqjrkbrQ",
        "outputId": "dfa063e3-5d43-4097-99b7-71d32800b504"
      },
      "execution_count": null,
      "outputs": [
        {
          "output_type": "stream",
          "name": "stdout",
          "text": [
            "Welcome to PW Skills Assignment!\n"
          ]
        }
      ]
    },
    {
      "cell_type": "code",
      "source": [
        "#[3] How would you handle a case where the file doesn't exist while\n",
        "#    trying to open it for reading?\n",
        "\n",
        "try:\n",
        "    with open(\"missing.txt\", \"r\") as f:\n",
        "        print(f.read())\n",
        "except FileNotFoundError:\n",
        "    print(\"File not found.\")\n"
      ],
      "metadata": {
        "colab": {
          "base_uri": "https://localhost:8080/"
        },
        "id": "7BJcYkUjHCo-",
        "outputId": "d24abac2-364f-437e-e11c-d2b36ddc7df2"
      },
      "execution_count": null,
      "outputs": [
        {
          "output_type": "stream",
          "name": "stdout",
          "text": [
            "File not found.\n"
          ]
        }
      ]
    },
    {
      "cell_type": "code",
      "source": [
        "#[4] Write a Python script that reads from one file and writes its content in\n",
        "#    another file.\n",
        "\n",
        "with open(\"file.txt\", \"r\") as src, open(\"destination.txt\", \"w\") as dest:\n",
        "    dest.write(src.read())\n",
        "    print(\"File copied successfully.\")"
      ],
      "metadata": {
        "colab": {
          "base_uri": "https://localhost:8080/"
        },
        "id": "fFJ26EzVITbn",
        "outputId": "7854b58d-a36c-4c38-bf96-3343c6341add"
      },
      "execution_count": null,
      "outputs": [
        {
          "output_type": "stream",
          "name": "stdout",
          "text": [
            "File copied successfully.\n"
          ]
        }
      ]
    },
    {
      "cell_type": "code",
      "source": [
        "#[5] How would you catch and handle division by zero error in Python?\n",
        "\n",
        "try:\n",
        "    result = 10 / 0\n",
        "except ZeroDivisionError:\n",
        "    print(\"Error: Division by zero.\")"
      ],
      "metadata": {
        "colab": {
          "base_uri": "https://localhost:8080/"
        },
        "id": "zbP3jOp7Ks5W",
        "outputId": "9efbcbe0-bb62-4f9a-9de7-3be616cac765"
      },
      "execution_count": null,
      "outputs": [
        {
          "output_type": "stream",
          "name": "stdout",
          "text": [
            "Error: Division by zero.\n"
          ]
        }
      ]
    },
    {
      "cell_type": "code",
      "source": [
        "#[6] Write a Python program that logs an error message to a log file\n",
        "#     when a division by zero exception occurs.\n",
        "\n",
        "import logging\n",
        "\n",
        "# Configure logging\n",
        "logging.basicConfig(\n",
        "    filename=\"error_log.txt\",  # Log file name\n",
        "    level=logging.ERROR,       # Log level\n",
        "    format=\"%(asctime)s - %(levelname)s - %(message)s\"\n",
        ")\n",
        "\n",
        "try:\n",
        "    # Example division operation\n",
        "    num1 = 10\n",
        "    num2 = 0\n",
        "    result = num1 / num2  # This will cause ZeroDivisionError\n",
        "except ZeroDivisionError as e:\n",
        "    logging.error(\"Division by zero error occurred: %s\", e)\n",
        "\n",
        "print(\"Program completed. Check 'error_log.txt' for details.\")\n"
      ],
      "metadata": {
        "id": "Vrbh0w8yLBu1",
        "colab": {
          "base_uri": "https://localhost:8080/"
        },
        "outputId": "29b9e8f9-c694-4ec8-8581-9e3e710505ac"
      },
      "execution_count": null,
      "outputs": [
        {
          "output_type": "stream",
          "name": "stderr",
          "text": [
            "ERROR:root:Division by zero error occurred: division by zero\n"
          ]
        },
        {
          "output_type": "stream",
          "name": "stdout",
          "text": [
            "Program completed. Check 'error_log.txt' for details.\n"
          ]
        }
      ]
    },
    {
      "cell_type": "code",
      "source": [
        "#[7] How do you log information at different levels (INFO, ERROR, WARNING)\n",
        "#    in Python using the logging module?\n",
        "\n",
        "import logging\n",
        "\n",
        "# Configure logging\n",
        "logging.basicConfig(\n",
        "    filename=\"app.log\",       # Log file\n",
        "    level=logging.DEBUG,      # Minimum log level to capture\n",
        "    format=\"%(asctime)s - %(levelname)s - %(message)s\"\n",
        ")\n",
        "\n",
        "# Log messages at different levels\n",
        "logging.debug(\"This is a DEBUG message (useful for debugging).\")\n",
        "logging.info(\"This is an INFO message (general information).\")\n",
        "logging.warning(\"This is a WARNING message (something unexpected).\")\n",
        "logging.error(\"This is an ERROR message (a serious issue).\")\n",
        "logging.critical(\"This is a CRITICAL message (very serious problem).\")\n",
        "\n",
        "print(\"Logs have been written to app.log\")"
      ],
      "metadata": {
        "id": "NGQoVekQMGTN",
        "colab": {
          "base_uri": "https://localhost:8080/"
        },
        "outputId": "b8503827-c178-49fe-a550-73f4f55a2a93"
      },
      "execution_count": null,
      "outputs": [
        {
          "output_type": "stream",
          "name": "stderr",
          "text": [
            "WARNING:root:This is a WARNING message (something unexpected).\n",
            "ERROR:root:This is an ERROR message (a serious issue).\n",
            "CRITICAL:root:This is a CRITICAL message (very serious problem).\n"
          ]
        },
        {
          "output_type": "stream",
          "name": "stdout",
          "text": [
            "Logs have been written to app.log\n"
          ]
        }
      ]
    },
    {
      "cell_type": "code",
      "source": [
        "#[8] Write a program to handle a file opening error using exception handling.\n",
        "\n",
        "try:\n",
        "    # Attempt to open a file that may not exist\n",
        "    with open(\"non_existent_file.txt\", \"r\") as file:\n",
        "        content = file.read()\n",
        "        print(content)\n",
        "\n",
        "except FileNotFoundError as e:\n",
        "    print(f\"Error: The file could not be found. Details: {e}\")\n",
        "\n",
        "except PermissionError as e:\n",
        "    print(f\"Error: You do not have permission to open this file. Details: {e}\")\n",
        "\n",
        "except Exception as e:\n",
        "    print(f\"An unexpected error occurred: {e}\")\n",
        "\n",
        "finally:\n",
        "    print(\"File handling attempt complete.\")\n"
      ],
      "metadata": {
        "id": "of9qTRAjMafk",
        "colab": {
          "base_uri": "https://localhost:8080/"
        },
        "outputId": "934af9ca-d02d-4e9e-d7c5-f1c0f71ee697"
      },
      "execution_count": null,
      "outputs": [
        {
          "output_type": "stream",
          "name": "stdout",
          "text": [
            "Error: The file could not be found. Details: [Errno 2] No such file or directory: 'non_existent_file.txt'\n",
            "File handling attempt complete.\n"
          ]
        }
      ]
    },
    {
      "cell_type": "code",
      "source": [
        "#[9] How can you read a file line by line and store its content\n",
        "#    in a list in Python?\n",
        "\n",
        "\n"
      ],
      "metadata": {
        "id": "pqx4HFsjMmBW"
      },
      "execution_count": null,
      "outputs": []
    },
    {
      "cell_type": "code",
      "source": [
        "#[10] How can you append data to an existing file in Python?\n",
        "\n",
        "# Appending data to a file\n",
        "filename = \"example.txt\"\n",
        "\n",
        "with open(filename, \"a\") as file:\n",
        "    file.write(\"\\nThis is a new line of text.\")\n",
        "\n",
        "print(\"Data appended successfully!\")"
      ],
      "metadata": {
        "id": "uxSDlc-0M2A0",
        "colab": {
          "base_uri": "https://localhost:8080/"
        },
        "outputId": "7426596a-4682-46b9-ef3a-2a7a96be08ae"
      },
      "execution_count": null,
      "outputs": [
        {
          "output_type": "stream",
          "name": "stdout",
          "text": [
            "Data appended successfully!\n"
          ]
        }
      ]
    },
    {
      "cell_type": "code",
      "source": [
        "#[11] Write a Python program that uses a try-except block to handle an error\n",
        "#     when attempting to access a dictionary key that doesn't exist.\n",
        "\n",
        "# Dictionary\n",
        "my_dict = {\"name\": \"Alice\", \"age\": 25}\n",
        "\n",
        "try:\n",
        "    # Attempt to access a non-existent key\n",
        "    value = my_dict[\"city\"]\n",
        "    print(f\"City: {value}\")\n",
        "\n",
        "except KeyError:\n",
        "    print(\"Error: The key 'city' does not exist in the dictionary.\")"
      ],
      "metadata": {
        "id": "mkapWp_mPZD0",
        "colab": {
          "base_uri": "https://localhost:8080/"
        },
        "outputId": "2bdc60b4-5c0a-4515-b037-906caaf0d4eb"
      },
      "execution_count": null,
      "outputs": [
        {
          "output_type": "stream",
          "name": "stdout",
          "text": [
            "Error: The key 'city' does not exist in the dictionary.\n"
          ]
        }
      ]
    },
    {
      "cell_type": "code",
      "source": [
        "#[12] Write a program that demonstrates using multiple except blocks\n",
        "#     to handle different types of exceptions.\n",
        "\n",
        "try:\n",
        "    # Example 1: Division by zero\n",
        "    num = int(input(\"Enter a number: \"))\n",
        "    result = 10 / num\n",
        "\n",
        "    # Example 2: Accessing a missing key\n",
        "    my_dict = {\"name\": \"Alice\"}\n",
        "    print(\"Age:\", my_dict[\"age\"])\n",
        "\n",
        "except ZeroDivisionError:\n",
        "    print(\"Error: Cannot divide by zero.\")\n",
        "\n",
        "except KeyError:\n",
        "    print(\"Error: The specified key was not found in the dictionary.\")\n",
        "\n",
        "except ValueError:\n",
        "    print(\"Error: Please enter a valid integer.\")\n",
        "\n",
        "except Exception as e:\n",
        "    # Catch-all for unexpected exceptions\n",
        "    print(f\"An unexpected error occurred: {e}\")\n"
      ],
      "metadata": {
        "id": "-seAnoJiPvKM",
        "colab": {
          "base_uri": "https://localhost:8080/"
        },
        "outputId": "cb4074d2-8806-4491-a8aa-7facf7086310"
      },
      "execution_count": null,
      "outputs": [
        {
          "output_type": "stream",
          "name": "stdout",
          "text": [
            "Enter a number: 56\n",
            "Error: The specified key was not found in the dictionary.\n"
          ]
        }
      ]
    },
    {
      "cell_type": "code",
      "source": [
        "#[13] How would you check if a file exists before attempting to read it in Python?\n",
        "\n",
        "import os\n",
        "\n",
        "filename = \"example.txt\"\n",
        "\n",
        "if os.path.exists(filename):\n",
        "    with open(filename, \"r\") as file:\n",
        "        content = file.read()\n",
        "        print(content)\n",
        "else:\n",
        "    print(f\"Error: The file '{filename}' does not exist.\")\n"
      ],
      "metadata": {
        "id": "YfQ9WbxEQBVy",
        "colab": {
          "base_uri": "https://localhost:8080/"
        },
        "outputId": "e20b4a8b-71b2-4ef7-fe59-a481b33ef9f9"
      },
      "execution_count": null,
      "outputs": [
        {
          "output_type": "stream",
          "name": "stdout",
          "text": [
            "\n",
            "This is a new line of text.\n"
          ]
        }
      ]
    },
    {
      "cell_type": "code",
      "source": [
        "#[14] Write a program that uses the logging module to log both informational\n",
        "#     and error messages.\n",
        "\n",
        "import logging\n",
        "\n",
        "# Configure logging\n",
        "logging.basicConfig(\n",
        "    filename=\"app.log\",               # Log output file\n",
        "    level=logging.DEBUG,              # Minimum log level\n",
        "    format=\"%(asctime)s - %(levelname)s - %(message)s\"\n",
        ")\n",
        "\n",
        "# Example usage\n",
        "logging.info(\"Program started successfully.\")\n",
        "\n",
        "try:\n",
        "    num1 = 10\n",
        "    num2 = 0\n",
        "    result = num1 / num2\n",
        "    logging.info(f\"Result: {result}\")\n",
        "except ZeroDivisionError as e:\n",
        "    logging.error(f\"Error occurred: {e}\")\n",
        "\n",
        "logging.info(\"Program finished.\")"
      ],
      "metadata": {
        "id": "IblaGbWlQVKq",
        "colab": {
          "base_uri": "https://localhost:8080/"
        },
        "outputId": "b3e8631f-b231-4faf-bd36-4a215b51b3ff"
      },
      "execution_count": null,
      "outputs": [
        {
          "output_type": "stream",
          "name": "stderr",
          "text": [
            "ERROR:root:Error occurred: division by zero\n"
          ]
        }
      ]
    },
    {
      "cell_type": "code",
      "source": [
        "#[15] Write a Python program that prints the content of a file and handles\n",
        "#     the case when the file is empty.\n",
        "\n",
        "import os\n",
        "\n",
        "filename = \"sample.txt\"\n",
        "\n",
        "try:\n",
        "    if not os.path.exists(filename):\n",
        "        print(f\"Error: The file '{filename}' does not exist.\")\n",
        "    else:\n",
        "        # Check if file is empty\n",
        "        if os.path.getsize(filename) == 0:\n",
        "            print(\"The file is empty.\")\n",
        "        else:\n",
        "            with open(filename, \"r\") as file:\n",
        "                content = file.read()\n",
        "                print(\"File content:\")\n",
        "                print(content)\n",
        "except Exception as e:\n",
        "    print(f\"An error occurred: {e}\")"
      ],
      "metadata": {
        "id": "xQkm_CSxQnMi",
        "colab": {
          "base_uri": "https://localhost:8080/"
        },
        "outputId": "3b26c2af-4a38-468b-ff9a-4751d8600ca4"
      },
      "execution_count": null,
      "outputs": [
        {
          "output_type": "stream",
          "name": "stdout",
          "text": [
            "Error: The file 'sample.txt' does not exist.\n"
          ]
        }
      ]
    },
    {
      "cell_type": "code",
      "source": [
        "#[16] Demonstrate how to use memory profiling to check the memory\n",
        "#     usage of a small program.\n"
      ],
      "metadata": {
        "id": "h3_EOTnoQ6dL"
      },
      "execution_count": null,
      "outputs": []
    },
    {
      "cell_type": "code",
      "source": [
        "#[17] #Write a Python program to create and write a list of numbers to a file, one number per line.\n",
        "\n",
        "# Create a list of numbers\n",
        "numbers = [10, 20, 30, 40, 50]\n",
        "\n",
        "# File name\n",
        "filename = \"numbers.txt\"\n",
        "\n",
        "try:\n",
        "    # Open the file in write mode\n",
        "    with open(filename, \"w\") as file:\n",
        "        for num in numbers:\n",
        "            file.write(str(num) + \"\\n\")\n",
        "    print(f\"Numbers written successfully to {filename}\")\n",
        "except Exception as e:\n",
        "    print(f\"An error occurred: {e}\")"
      ],
      "metadata": {
        "id": "v00-0sTzRRTc",
        "colab": {
          "base_uri": "https://localhost:8080/"
        },
        "outputId": "ab13640d-dd3f-4fab-b01d-95c69ec8f06e"
      },
      "execution_count": null,
      "outputs": [
        {
          "output_type": "stream",
          "name": "stdout",
          "text": [
            "Numbers written successfully to numbers.txt\n"
          ]
        }
      ]
    },
    {
      "cell_type": "code",
      "source": [
        "#[19] #Write a program that handles both IndexError and KeyError using a try-except block.\n",
        "\n",
        "# Sample list and dictionary\n",
        "my_list = [1, 2, 3]\n",
        "my_dict = {\"a\": 10, \"b\": 20}\n",
        "\n",
        "try:\n",
        "    # Attempt to access an invalid list index\n",
        "    print(\"List element:\", my_list[5])\n",
        "\n",
        "    # Attempt to access a missing dictionary key\n",
        "    print(\"Dictionary value:\", my_dict[\"z\"])\n",
        "\n",
        "except IndexError as e:\n",
        "    print(f\"IndexError occurred: {e}\")\n",
        "\n",
        "except KeyError as e:\n",
        "    print(f\"KeyError occurred: {e}\")"
      ],
      "metadata": {
        "id": "ws3j9tynRZKT",
        "colab": {
          "base_uri": "https://localhost:8080/"
        },
        "outputId": "7ea01b4b-5d23-46b7-d1c4-b508ffb3b855"
      },
      "execution_count": null,
      "outputs": [
        {
          "output_type": "stream",
          "name": "stdout",
          "text": [
            "IndexError occurred: list index out of range\n"
          ]
        }
      ]
    },
    {
      "cell_type": "code",
      "source": [
        "#[20]  #How would you open a file and read its contents using a context manager in Python?\n",
        "\n",
        "# Open and read a file using a context manager\n",
        "file_path = \"example.txt\"\n",
        "\n",
        "with open(file_path, \"r\") as file:\n",
        "    contents = file.read()\n",
        "\n",
        "print(contents)\n"
      ],
      "metadata": {
        "id": "upisVOA2Ram7",
        "colab": {
          "base_uri": "https://localhost:8080/"
        },
        "outputId": "38f2d8f3-1e6e-48ce-c8ed-3e15d24c553b"
      },
      "execution_count": null,
      "outputs": [
        {
          "output_type": "stream",
          "name": "stdout",
          "text": [
            "\n",
            "This is a new line of text.\n"
          ]
        }
      ]
    },
    {
      "cell_type": "code",
      "source": [
        "#[21]# Write a Python program that reads a file and prints the number of occurrences of a specific word.\n",
        "\n",
        "# Program to count occurrences of a specific word in a file\n",
        "\n",
        "file_path = \"example.txt\"   # Change to your file name\n",
        "target_word = \"python\"      # Word to count (case-insensitive)\n",
        "\n",
        "# Open and read the file using a context manager\n",
        "with open(file_path, \"r\", encoding=\"utf-8\") as file:\n",
        "    contents = file.read()\n",
        "\n",
        "# Count occurrences (case-insensitive)\n",
        "word_count = contents.lower().split().count(target_word.lower())\n",
        "\n",
        "print(f\"The word '{target_word}' appears {word_count} times in the file.\")\n"
      ],
      "metadata": {
        "id": "ZMzTxm9HRdn0",
        "colab": {
          "base_uri": "https://localhost:8080/"
        },
        "outputId": "969308c3-3b80-4787-8396-c79c8a8cff7d"
      },
      "execution_count": null,
      "outputs": [
        {
          "output_type": "stream",
          "name": "stdout",
          "text": [
            "The word 'python' appears 0 times in the file.\n"
          ]
        }
      ]
    },
    {
      "cell_type": "code",
      "source": [
        "#[22] #How can you check if a file is empty before attempting to read its contents?\n",
        "\n",
        "import os\n",
        "\n",
        "file_path = \"example.txt\"\n",
        "\n",
        "if os.path.getsize(file_path) == 0:\n",
        "    print(\"The file is empty.\")\n",
        "else:\n",
        "    with open(file_path, \"r\", encoding=\"utf-8\") as file:\n",
        "        contents = file.read()\n",
        "        print(contents)\n"
      ],
      "metadata": {
        "id": "tMFQBFWvRfel",
        "colab": {
          "base_uri": "https://localhost:8080/"
        },
        "outputId": "a3927e69-0c00-4a25-a75f-e7141f83d120"
      },
      "execution_count": null,
      "outputs": [
        {
          "output_type": "stream",
          "name": "stdout",
          "text": [
            "\n",
            "This is a new line of text.\n"
          ]
        }
      ]
    },
    {
      "cell_type": "code",
      "source": [
        "#[23] #Write a Python program that writes to a log file when an error occurs during file handling.\n",
        "\n",
        "import logging\n",
        "\n",
        "# Configure logging\n",
        "logging.basicConfig(\n",
        "    filename=\"error.log\",          # Log file name\n",
        "    level=logging.ERROR,           # Only log errors or higher\n",
        "    format=\"%(asctime)s - %(levelname)s - %(message)s\"\n",
        ")\n",
        "\n",
        "file_path = \"example.txt\"\n",
        "\n",
        "try:\n",
        "    with open(file_path, \"r\", encoding=\"utf-8\") as file:\n",
        "        contents = file.read()\n",
        "        print(contents)\n",
        "\n",
        "except FileNotFoundError:\n",
        "    logging.error(f\"File not found: {file_path}\")\n",
        "    print(\"Error: The file does not exist.\")\n",
        "\n",
        "except PermissionError:\n",
        "    logging.error(f\"Permission denied: {file_path}\")\n",
        "    print(\"Error: You don't have permission to access this file.\")\n",
        "\n",
        "except Exception as e:\n",
        "    logging.error(f\"Unexpected error with file '{file_path}': {e}\")\n",
        "    print(\"An unexpected error occurred. Check the log for details.\")\n"
      ],
      "metadata": {
        "id": "N19QPsmtRg7c",
        "colab": {
          "base_uri": "https://localhost:8080/"
        },
        "outputId": "3b730183-ed19-4a3a-d5f4-908ad366f39e"
      },
      "execution_count": null,
      "outputs": [
        {
          "output_type": "stream",
          "name": "stdout",
          "text": [
            "\n",
            "This is a new line of text.\n"
          ]
        }
      ]
    }
  ]
}